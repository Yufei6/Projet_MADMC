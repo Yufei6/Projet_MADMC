{
 "cells": [
  {
   "cell_type": "markdown",
   "metadata": {},
   "source": [
    "#                                         Projet MADMC \n",
    "## Sélection bi-objectifs avec coefficients intervalles\n",
    "## Group Weifei XIE & Yufei LIU"
   ]
  },
  {
   "cell_type": "code",
   "execution_count": 4,
   "metadata": {},
   "outputs": [],
   "source": [
    "import numpy as np\n"
   ]
  },
  {
   "cell_type": "code",
   "execution_count": 5,
   "metadata": {},
   "outputs": [],
   "source": [
    "# Question 2\n",
    "def alea(n,m):\n",
    "    #genere des exemple aleatoirement\n",
    "    return m/4*numpy.random.randn(n, 2)+m"
   ]
  },
  {
   "cell_type": "code",
   "execution_count": 6,
   "metadata": {},
   "outputs": [],
   "source": [
    "# Question 3\n",
    "\n",
    "def compare(a,b):\n",
    "    if b[0]<a[0] and b[1]<=a[1] :\n",
    "        return True\n",
    "    if b[0]<=a[0] and b[1]<a[1] :\n",
    "        return True\n",
    "    \n",
    "\n",
    "def algoNaif(data):\n",
    "    res=[]\n",
    "    for i in range(len(data)):\n",
    "        state=False\n",
    "        for j in range(len(data)):\n",
    "            if compare(data[i],data[j]):\n",
    "                state = True\n",
    "        if state== False :\n",
    "            res.append(data[i])\n",
    "    return res"
   ]
  },
  {
   "cell_type": "code",
   "execution_count": 7,
   "metadata": {},
   "outputs": [],
   "source": [
    "# Question 4\n",
    "def algoSecond(data):\n",
    "    res=[]\n",
    "    a=0\n",
    "    data = np.array(data)\n",
    "    data = data[np.argsort(data[:,0])[::-1]]\n",
    "    n=len(data)\n",
    "    for i in range(n):\n",
    "        data=data[a:len(data),]\n",
    "        m=len(data)\n",
    "        min1=np.argmin(data[:,1])\n",
    "        res.append(data[min1])\n",
    "        a=min1+1\n",
    "        if min1==m-1:\n",
    "            break\n",
    "    return res"
   ]
  },
  {
   "cell_type": "code",
   "execution_count": 8,
   "metadata": {},
   "outputs": [],
   "source": [
    "# Question 5\n"
   ]
  },
  {
   "cell_type": "code",
   "execution_count": null,
   "metadata": {},
   "outputs": [],
   "source": []
  }
 ],
 "metadata": {
  "kernelspec": {
   "display_name": "Python 3",
   "language": "python",
   "name": "python3"
  },
  "language_info": {
   "codemirror_mode": {
    "name": "ipython",
    "version": 3
   },
   "file_extension": ".py",
   "mimetype": "text/x-python",
   "name": "python",
   "nbconvert_exporter": "python",
   "pygments_lexer": "ipython3",
   "version": "3.8.5"
  }
 },
 "nbformat": 4,
 "nbformat_minor": 4
}
